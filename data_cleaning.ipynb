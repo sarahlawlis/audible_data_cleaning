{
 "cells": [
  {
   "cell_type": "code",
   "execution_count": 5,
   "metadata": {},
   "outputs": [],
   "source": [
    "# importing necessary libraries\n",
    "import pandas as pd\n",
    "import numpy as np"
   ]
  },
  {
   "cell_type": "markdown",
   "metadata": {},
   "source": [
    "## 1. Loading your data"
   ]
  },
  {
   "cell_type": "markdown",
   "metadata": {},
   "source": [
    "Use the pandas function read_excel() to load your data into python as a pandas DataFrame. A pandas DataFrame is similar to an excel file in that it has a tabular (table) structure, both have labels/column headers, and are great forms to store your data in for manipulation."
   ]
  },
  {
   "cell_type": "code",
   "execution_count": 6,
   "metadata": {},
   "outputs": [],
   "source": [
    "# Change the text in the function to the file path where you downloaded the xlsx file on your computer\n",
    "# A file path is where a file lives on your computer, to find the file path on your machine, locate the file you want to use in your file manager (finder),\n",
    "# right click the file (then hold down the option key if using Mac) and copy the file path. Easy!\n",
    "data = pd.read_excel(\"/workspaces/audible_data_cleaning/audible_start.xlsx\")"
   ]
  },
  {
   "cell_type": "markdown",
   "metadata": {},
   "source": [
    "## 2. Getting to know your data"
   ]
  },
  {
   "cell_type": "markdown",
   "metadata": {},
   "source": [
    "The pandas head() function is great to get a glimpse at your data when you load it in, as well as visually checking your data as you clean it and manipulate it! It returns the first 5 rows of your data (indices 0-4), and the inverse to this function is tail(). Try using tail to check the last 5 entries in your dataset."
   ]
  },
  {
   "cell_type": "code",
   "execution_count": 7,
   "metadata": {},
   "outputs": [
    {
     "data": {
      "text/html": [
       "<div>\n",
       "<style scoped>\n",
       "    .dataframe tbody tr th:only-of-type {\n",
       "        vertical-align: middle;\n",
       "    }\n",
       "\n",
       "    .dataframe tbody tr th {\n",
       "        vertical-align: top;\n",
       "    }\n",
       "\n",
       "    .dataframe thead th {\n",
       "        text-align: right;\n",
       "    }\n",
       "</style>\n",
       "<table border=\"1\" class=\"dataframe\">\n",
       "  <thead>\n",
       "    <tr style=\"text-align: right;\">\n",
       "      <th></th>\n",
       "      <th>ID</th>\n",
       "      <th>name</th>\n",
       "      <th>author</th>\n",
       "      <th>narrator</th>\n",
       "      <th>time</th>\n",
       "      <th>releasedate</th>\n",
       "      <th>language</th>\n",
       "      <th>stars</th>\n",
       "      <th>price</th>\n",
       "    </tr>\n",
       "  </thead>\n",
       "  <tbody>\n",
       "    <tr>\n",
       "      <th>0</th>\n",
       "      <td>294217</td>\n",
       "      <td>Shattered Hearts (German edition)</td>\n",
       "      <td>Writtenby:Anne-MarieJungwirth</td>\n",
       "      <td>Narratedby:FundaVanroy,SebastianFischer</td>\n",
       "      <td>8 hrs and 47 mins</td>\n",
       "      <td>19-11-21</td>\n",
       "      <td>german</td>\n",
       "      <td>Not rated yet</td>\n",
       "      <td>401</td>\n",
       "    </tr>\n",
       "    <tr>\n",
       "      <th>1</th>\n",
       "      <td>253599</td>\n",
       "      <td>The Ultimate Colin Wilson</td>\n",
       "      <td>Writtenby:ColinWilson,ColinStanley-editedby</td>\n",
       "      <td>Narratedby:LiamGerrard</td>\n",
       "      <td>15 hrs and 18 mins</td>\n",
       "      <td>14-05-19</td>\n",
       "      <td>USEnglish</td>\n",
       "      <td>Not rated yet</td>\n",
       "      <td>703</td>\n",
       "    </tr>\n",
       "    <tr>\n",
       "      <th>2</th>\n",
       "      <td>210584</td>\n",
       "      <td>Bloody Confused!</td>\n",
       "      <td>Writtenby:ChuckCulpepper</td>\n",
       "      <td>Narratedby:AlexHyde-White</td>\n",
       "      <td>9 hrs and 48 mins</td>\n",
       "      <td>2014-04-02 00:00:00</td>\n",
       "      <td>English</td>\n",
       "      <td>Not rated yet</td>\n",
       "      <td>668</td>\n",
       "    </tr>\n",
       "    <tr>\n",
       "      <th>3</th>\n",
       "      <td>236792</td>\n",
       "      <td>Operation Greylord</td>\n",
       "      <td>Writtenby:TerrenceHake,WayneKlatt</td>\n",
       "      <td>Narratedby:CharlesConstant</td>\n",
       "      <td>10 hrs and 14 mins</td>\n",
       "      <td>2015-07-08 00:00:00</td>\n",
       "      <td>English</td>\n",
       "      <td>Not rated yet</td>\n",
       "      <td>891</td>\n",
       "    </tr>\n",
       "    <tr>\n",
       "      <th>4</th>\n",
       "      <td>261210</td>\n",
       "      <td>The Little Book of Main Street Money</td>\n",
       "      <td>Writtenby:JonathanClements</td>\n",
       "      <td>Narratedby:SeanPratt</td>\n",
       "      <td>4 hrs and 23 mins</td>\n",
       "      <td>15-07-09</td>\n",
       "      <td>English</td>\n",
       "      <td>5 out of 5 stars1 rating</td>\n",
       "      <td>703</td>\n",
       "    </tr>\n",
       "  </tbody>\n",
       "</table>\n",
       "</div>"
      ],
      "text/plain": [
       "       ID                                  name  \\\n",
       "0  294217     Shattered Hearts (German edition)   \n",
       "1  253599             The Ultimate Colin Wilson   \n",
       "2  210584                      Bloody Confused!   \n",
       "3  236792                    Operation Greylord   \n",
       "4  261210  The Little Book of Main Street Money   \n",
       "\n",
       "                                        author  \\\n",
       "0                Writtenby:Anne-MarieJungwirth   \n",
       "1  Writtenby:ColinWilson,ColinStanley-editedby   \n",
       "2                     Writtenby:ChuckCulpepper   \n",
       "3            Writtenby:TerrenceHake,WayneKlatt   \n",
       "4                   Writtenby:JonathanClements   \n",
       "\n",
       "                                  narrator                time  \\\n",
       "0  Narratedby:FundaVanroy,SebastianFischer   8 hrs and 47 mins   \n",
       "1                   Narratedby:LiamGerrard  15 hrs and 18 mins   \n",
       "2                Narratedby:AlexHyde-White   9 hrs and 48 mins   \n",
       "3               Narratedby:CharlesConstant  10 hrs and 14 mins   \n",
       "4                     Narratedby:SeanPratt   4 hrs and 23 mins   \n",
       "\n",
       "           releasedate   language                     stars price  \n",
       "0             19-11-21     german             Not rated yet   401  \n",
       "1             14-05-19  USEnglish             Not rated yet   703  \n",
       "2  2014-04-02 00:00:00    English             Not rated yet   668  \n",
       "3  2015-07-08 00:00:00    English             Not rated yet   891  \n",
       "4             15-07-09    English  5 out of 5 stars1 rating   703  "
      ]
     },
     "execution_count": 7,
     "metadata": {},
     "output_type": "execute_result"
    }
   ],
   "source": [
    "data.head()"
   ]
  },
  {
   "cell_type": "markdown",
   "metadata": {},
   "source": [
    "Next, lets look at the datatypes stored in the columns of our dataframe. We will use the pandas dtypes attribute to return the datatype of each column in our dataframe. You have seen some functions from pandas, and now may be asking, \"what is an attribute?\"\n",
    "\n",
    "An attribute is some characteristic of an object, an object being a pandas dataframe in our case. These are extremely useful when manipulating data in python! Other attributes include columns, size, index, shape, and more."
   ]
  },
  {
   "cell_type": "code",
   "execution_count": 8,
   "metadata": {},
   "outputs": [
    {
     "data": {
      "text/plain": [
       "ID              int64\n",
       "name           object\n",
       "author         object\n",
       "narrator       object\n",
       "time           object\n",
       "releasedate    object\n",
       "language       object\n",
       "stars          object\n",
       "price          object\n",
       "dtype: object"
      ]
     },
     "execution_count": 8,
     "metadata": {},
     "output_type": "execute_result"
    }
   ],
   "source": [
    "data.dtypes"
   ]
  },
  {
   "cell_type": "markdown",
   "metadata": {},
   "source": [
    "Looking at the numbers of rows and columsn in our data"
   ]
  },
  {
   "cell_type": "code",
   "execution_count": 9,
   "metadata": {},
   "outputs": [
    {
     "data": {
      "text/plain": [
       "(174978, 9)"
      ]
     },
     "execution_count": 9,
     "metadata": {},
     "output_type": "execute_result"
    }
   ],
   "source": [
    "data.shape"
   ]
  },
  {
   "cell_type": "markdown",
   "metadata": {},
   "source": [
    "After glancing at our data and checking the datatypes, it's clear we have some dirty data.\n",
    "\n",
    "From first glance: columns like author and narrator have unnecessary text like \"Writtenby:\" and \"Narratedby:\". It is clear that we have inconsistent datetime forms in the releasedate column. And lastly, the stars column clearly needs some TLC.\n",
    "\n",
    "From further datatype investigation: yikes. The ID column in an int which is bad because we do not want to perform mathematical calculations on ID since it's a primary key (unique identifier), so that datatype needs to change. The rest of the columns are all objects, meaning that they hold multiple different datatypes. Trying to perform an analysis on a column with multiple datatypes is extremely difficult.\n",
    "\n",
    "Lets fix this!"
   ]
  },
  {
   "cell_type": "markdown",
   "metadata": {},
   "source": [
    "## 3. Cleaning your data"
   ]
  },
  {
   "cell_type": "markdown",
   "metadata": {},
   "source": [
    "The first thing I like to do when cleaning data is checking for duplicates. This code uses the pandas duplicated() function to find duplicates in our data. I initialize those a variable named \"dupes\" and then print the length using the built-in python function len() which returns the size of various python objects."
   ]
  },
  {
   "cell_type": "code",
   "execution_count": 10,
   "metadata": {},
   "outputs": [
    {
     "name": "stdout",
     "output_type": "stream",
     "text": [
      "87489\n"
     ]
    }
   ],
   "source": [
    "dupes = data[data.duplicated()]\n",
    "print(len(dupes))"
   ]
  },
  {
   "cell_type": "markdown",
   "metadata": {},
   "source": [
    "Let's drop those duplicates using the drop_duplicates function from pandas."
   ]
  },
  {
   "cell_type": "code",
   "execution_count": 11,
   "metadata": {},
   "outputs": [],
   "source": [
    "data = data.drop_duplicates()"
   ]
  },
  {
   "cell_type": "markdown",
   "metadata": {},
   "source": [
    "Next, I check for empty values in the dataframe and then drop them"
   ]
  },
  {
   "cell_type": "code",
   "execution_count": 12,
   "metadata": {},
   "outputs": [
    {
     "name": "stdout",
     "output_type": "stream",
     "text": [
      "491\n"
     ]
    }
   ],
   "source": [
    "nulls = data[data.isnull().any(axis=1)]\n",
    "print(len(nulls))"
   ]
  },
  {
   "cell_type": "code",
   "execution_count": 13,
   "metadata": {},
   "outputs": [],
   "source": [
    "data = data.dropna()"
   ]
  },
  {
   "cell_type": "markdown",
   "metadata": {},
   "source": [
    "Let's convert the ID field to a str"
   ]
  },
  {
   "cell_type": "code",
   "execution_count": 14,
   "metadata": {},
   "outputs": [],
   "source": [
    "data['ID'] = data['ID'].astype(str)"
   ]
  },
  {
   "cell_type": "markdown",
   "metadata": {},
   "source": [
    "Now, let's fix the author and narrator columns by removing the unnecessary text."
   ]
  },
  {
   "cell_type": "code",
   "execution_count": 15,
   "metadata": {},
   "outputs": [],
   "source": [
    "# Remove Writtenby: by using pandas replace\n",
    "data['author'] = data['author'].str.replace('Writtenby:', '')\n",
    "# Same process for narrator column\n",
    "data['narrator'] = data['narrator'].str.replace('Narratedby:', '')"
   ]
  },
  {
   "cell_type": "markdown",
   "metadata": {},
   "source": [
    "Next step is fixing that inconsistent time column. Below I am writing a function that uses regex, short for regular expression, to find patterns in our text and then apply mathematical calcs based on the findings in the text. Revisit this code after more of your python classes and you'll realize that you can write functions like this too!"
   ]
  },
  {
   "cell_type": "code",
   "execution_count": 16,
   "metadata": {},
   "outputs": [],
   "source": [
    "# I'm not going to explain this function in further depth because it's higher level but I promise you will look back at this in a year and \n",
    "# fully understand it! Keep coding!\n",
    "\n",
    "def convert_time_to_minutes(df: pd.DataFrame):\n",
    "    # Create a minutes column\n",
    "    df['minutes'] = 0\n",
    "    \n",
    "    # Use regex to get hours and minutes\n",
    "    hours = df['time'].str.extract(r'(\\d+) hr?', expand=False).fillna(0).astype(int)\n",
    "    minutes = df['time'].str.extract(r'(\\d+) min', expand=False).fillna(0).astype(int)\n",
    "    \n",
    "    # Take care of the less than 1 minute thing\n",
    "    less_than_minute_mask = df['time'].str.contains('less than 1 minute')\n",
    "    \n",
    "    # Simple math!\n",
    "    df.loc[~less_than_minute_mask, 'minutes'] += hours * 60\n",
    "    df.loc[~less_than_minute_mask, 'minutes'] += minutes\n",
    "    df.loc[less_than_minute_mask, 'minutes'] += 1\n",
    "    \n",
    "    return df"
   ]
  },
  {
   "cell_type": "markdown",
   "metadata": {},
   "source": [
    "Applying the function and dropping the dirty data column."
   ]
  },
  {
   "cell_type": "code",
   "execution_count": 17,
   "metadata": {},
   "outputs": [],
   "source": [
    "# Call the function with our dataframe\n",
    "data = convert_time_to_minutes(data)\n",
    "\n",
    "# Drop the time column\n",
    "data = data.drop(columns=['time'])"
   ]
  },
  {
   "cell_type": "markdown",
   "metadata": {},
   "source": [
    "Now let's fix the inconsistent dates. We want the dates in standard MM/DD/YY format that we use in the US. The code below takes the releasedate column and uses the pandas to_datetime() function to turn the column values into dates, and I then pass the dayfirst=True parameter to get all the values in the same order. The strftime() function then converts these values all to MM/DD/YY."
   ]
  },
  {
   "cell_type": "code",
   "execution_count": 18,
   "metadata": {},
   "outputs": [
    {
     "name": "stderr",
     "output_type": "stream",
     "text": [
      "/tmp/ipykernel_5738/72039345.py:1: UserWarning: Could not infer format, so each element will be parsed individually, falling back to `dateutil`. To ensure parsing is consistent and as-expected, please specify a format.\n",
      "  data['releasedate'] = pd.to_datetime(data['releasedate'], dayfirst=True, errors='coerce').dt.strftime('%m/%d/%y')\n"
     ]
    }
   ],
   "source": [
    "data['releasedate'] = pd.to_datetime(data['releasedate'], dayfirst=True, errors='coerce').dt.strftime('%m/%d/%y')"
   ]
  },
  {
   "cell_type": "markdown",
   "metadata": {},
   "source": [
    "Below I am writing a function that again uses regex to break the stars column out to two separate columns, star_rating and ratings_count. Feel free to read through and try to understand the code, but don't feel discouraged if you don't grasp everything happening - you'll get there!"
   ]
  },
  {
   "cell_type": "code",
   "execution_count": 19,
   "metadata": {},
   "outputs": [],
   "source": [
    "def extract_stars_and_ratings(df: pd.DataFrame, column_name: str):\n",
    "    \n",
    "    data[column_name] = data[column_name].astype(str)\n",
    "\n",
    "    # Using regex to see where we want to break this column up\n",
    "    stars_pattern = r'(\\d) out of 5 stars'\n",
    "    ratings_pattern = r'(\\d+) rating|(\\d+) ratings'\n",
    "    \n",
    "    # Extract stars and ratings to different columns\n",
    "    df['star_rating'] = df[column_name].str.extract(stars_pattern, expand=False)\n",
    "    df['star_rating'] = df['star_rating'].astype(float) if 'star_rating' in df.columns else np.nan\n",
    "    \n",
    "    # Extract ratings and stars\n",
    "    ratings = df[column_name].str.extract(ratings_pattern, expand=False)\n",
    "    df['ratings_count'] = ratings.apply(lambda row: int(row[0]) if pd.notnull(row[0]) else int(row[1]) if pd.notnull(row[1]) else 0, axis=1)\n",
    "    \n",
    "    # Handle \"Not yet rated\" and NaN values\n",
    "    df.loc[df[column_name].str.contains('Not yet rated', na=False), 'star_rating'] = np.nan\n",
    "    \n",
    "    return df[['star_rating', 'ratings_count']]"
   ]
  },
  {
   "cell_type": "markdown",
   "metadata": {},
   "source": [
    "Call the function and break out the stars and ratings."
   ]
  },
  {
   "cell_type": "code",
   "execution_count": 20,
   "metadata": {},
   "outputs": [],
   "source": [
    "data[['star_rating', 'ratings_count']] = extract_stars_and_ratings(data, 'stars')\n",
    "data = data.drop(columns=['stars'])"
   ]
  },
  {
   "cell_type": "markdown",
   "metadata": {},
   "source": [
    "Next we will fix the price column. Some values are ints, some are floats, and some are a str value of \"free\", which we need to conver to 0. When you handle monetary data, it is best to convert it to float (ex: 1.50)"
   ]
  },
  {
   "cell_type": "code",
   "execution_count": 21,
   "metadata": {},
   "outputs": [],
   "source": [
    "def make_money(df: pd.DataFrame, column_name: str):\n",
    "\n",
    "    # Use pandas replace to make \"free\" be 0\n",
    "    df[column_name] = df[column_name].replace(\"free\", 0)\n",
    "    \n",
    "    # Convert the column to float for currency\n",
    "    df[column_name] = pd.to_numeric(df[column_name], errors='coerce').fillna(0).astype(float)\n",
    "    \n",
    "    return df"
   ]
  },
  {
   "cell_type": "markdown",
   "metadata": {},
   "source": [
    "Call function to convert the price column to the proper format."
   ]
  },
  {
   "cell_type": "code",
   "execution_count": 22,
   "metadata": {},
   "outputs": [],
   "source": [
    "data = make_money(data, 'price')"
   ]
  },
  {
   "cell_type": "markdown",
   "metadata": {},
   "source": [
    "Now lets glimpse at our clean data, check the datatypes, and look at some basic stats."
   ]
  },
  {
   "cell_type": "code",
   "execution_count": 23,
   "metadata": {},
   "outputs": [
    {
     "data": {
      "text/html": [
       "<div>\n",
       "<style scoped>\n",
       "    .dataframe tbody tr th:only-of-type {\n",
       "        vertical-align: middle;\n",
       "    }\n",
       "\n",
       "    .dataframe tbody tr th {\n",
       "        vertical-align: top;\n",
       "    }\n",
       "\n",
       "    .dataframe thead th {\n",
       "        text-align: right;\n",
       "    }\n",
       "</style>\n",
       "<table border=\"1\" class=\"dataframe\">\n",
       "  <thead>\n",
       "    <tr style=\"text-align: right;\">\n",
       "      <th></th>\n",
       "      <th>ID</th>\n",
       "      <th>name</th>\n",
       "      <th>author</th>\n",
       "      <th>narrator</th>\n",
       "      <th>releasedate</th>\n",
       "      <th>language</th>\n",
       "      <th>price</th>\n",
       "      <th>minutes</th>\n",
       "      <th>star_rating</th>\n",
       "      <th>ratings_count</th>\n",
       "    </tr>\n",
       "  </thead>\n",
       "  <tbody>\n",
       "    <tr>\n",
       "      <th>0</th>\n",
       "      <td>294217</td>\n",
       "      <td>Shattered Hearts (German edition)</td>\n",
       "      <td>Anne-MarieJungwirth</td>\n",
       "      <td>FundaVanroy,SebastianFischer</td>\n",
       "      <td>11/19/21</td>\n",
       "      <td>german</td>\n",
       "      <td>401.0</td>\n",
       "      <td>527</td>\n",
       "      <td>NaN</td>\n",
       "      <td>0</td>\n",
       "    </tr>\n",
       "    <tr>\n",
       "      <th>1</th>\n",
       "      <td>253599</td>\n",
       "      <td>The Ultimate Colin Wilson</td>\n",
       "      <td>ColinWilson,ColinStanley-editedby</td>\n",
       "      <td>LiamGerrard</td>\n",
       "      <td>05/14/19</td>\n",
       "      <td>USEnglish</td>\n",
       "      <td>703.0</td>\n",
       "      <td>918</td>\n",
       "      <td>NaN</td>\n",
       "      <td>0</td>\n",
       "    </tr>\n",
       "    <tr>\n",
       "      <th>2</th>\n",
       "      <td>210584</td>\n",
       "      <td>Bloody Confused!</td>\n",
       "      <td>ChuckCulpepper</td>\n",
       "      <td>AlexHyde-White</td>\n",
       "      <td>04/02/14</td>\n",
       "      <td>English</td>\n",
       "      <td>668.0</td>\n",
       "      <td>588</td>\n",
       "      <td>NaN</td>\n",
       "      <td>0</td>\n",
       "    </tr>\n",
       "    <tr>\n",
       "      <th>3</th>\n",
       "      <td>236792</td>\n",
       "      <td>Operation Greylord</td>\n",
       "      <td>TerrenceHake,WayneKlatt</td>\n",
       "      <td>CharlesConstant</td>\n",
       "      <td>07/08/15</td>\n",
       "      <td>English</td>\n",
       "      <td>891.0</td>\n",
       "      <td>614</td>\n",
       "      <td>NaN</td>\n",
       "      <td>0</td>\n",
       "    </tr>\n",
       "    <tr>\n",
       "      <th>4</th>\n",
       "      <td>261210</td>\n",
       "      <td>The Little Book of Main Street Money</td>\n",
       "      <td>JonathanClements</td>\n",
       "      <td>SeanPratt</td>\n",
       "      <td>07/15/09</td>\n",
       "      <td>English</td>\n",
       "      <td>703.0</td>\n",
       "      <td>263</td>\n",
       "      <td>5.0</td>\n",
       "      <td>1</td>\n",
       "    </tr>\n",
       "  </tbody>\n",
       "</table>\n",
       "</div>"
      ],
      "text/plain": [
       "       ID                                  name  \\\n",
       "0  294217     Shattered Hearts (German edition)   \n",
       "1  253599             The Ultimate Colin Wilson   \n",
       "2  210584                      Bloody Confused!   \n",
       "3  236792                    Operation Greylord   \n",
       "4  261210  The Little Book of Main Street Money   \n",
       "\n",
       "                              author                      narrator  \\\n",
       "0                Anne-MarieJungwirth  FundaVanroy,SebastianFischer   \n",
       "1  ColinWilson,ColinStanley-editedby                   LiamGerrard   \n",
       "2                     ChuckCulpepper                AlexHyde-White   \n",
       "3            TerrenceHake,WayneKlatt               CharlesConstant   \n",
       "4                   JonathanClements                     SeanPratt   \n",
       "\n",
       "  releasedate   language  price  minutes  star_rating  ratings_count  \n",
       "0    11/19/21     german  401.0      527          NaN              0  \n",
       "1    05/14/19  USEnglish  703.0      918          NaN              0  \n",
       "2    04/02/14    English  668.0      588          NaN              0  \n",
       "3    07/08/15    English  891.0      614          NaN              0  \n",
       "4    07/15/09    English  703.0      263          5.0              1  "
      ]
     },
     "execution_count": 23,
     "metadata": {},
     "output_type": "execute_result"
    }
   ],
   "source": [
    "data.head()"
   ]
  },
  {
   "cell_type": "code",
   "execution_count": 24,
   "metadata": {},
   "outputs": [
    {
     "data": {
      "text/plain": [
       "ID                object\n",
       "name              object\n",
       "author            object\n",
       "narrator          object\n",
       "releasedate       object\n",
       "language          object\n",
       "price            float64\n",
       "minutes            int64\n",
       "star_rating      float64\n",
       "ratings_count      int64\n",
       "dtype: object"
      ]
     },
     "execution_count": 24,
     "metadata": {},
     "output_type": "execute_result"
    }
   ],
   "source": [
    "data.dtypes"
   ]
  },
  {
   "cell_type": "code",
   "execution_count": 25,
   "metadata": {},
   "outputs": [
    {
     "data": {
      "text/html": [
       "<div>\n",
       "<style scoped>\n",
       "    .dataframe tbody tr th:only-of-type {\n",
       "        vertical-align: middle;\n",
       "    }\n",
       "\n",
       "    .dataframe tbody tr th {\n",
       "        vertical-align: top;\n",
       "    }\n",
       "\n",
       "    .dataframe thead th {\n",
       "        text-align: right;\n",
       "    }\n",
       "</style>\n",
       "<table border=\"1\" class=\"dataframe\">\n",
       "  <thead>\n",
       "    <tr style=\"text-align: right;\">\n",
       "      <th></th>\n",
       "      <th>price</th>\n",
       "      <th>minutes</th>\n",
       "      <th>star_rating</th>\n",
       "      <th>ratings_count</th>\n",
       "    </tr>\n",
       "  </thead>\n",
       "  <tbody>\n",
       "    <tr>\n",
       "      <th>count</th>\n",
       "      <td>86998.000000</td>\n",
       "      <td>86998.000000</td>\n",
       "      <td>14988.000000</td>\n",
       "      <td>86998.000000</td>\n",
       "    </tr>\n",
       "    <tr>\n",
       "      <th>mean</th>\n",
       "      <td>560.848857</td>\n",
       "      <td>418.140992</td>\n",
       "      <td>4.642381</td>\n",
       "      <td>2.659406</td>\n",
       "    </tr>\n",
       "    <tr>\n",
       "      <th>std</th>\n",
       "      <td>335.903165</td>\n",
       "      <td>364.815476</td>\n",
       "      <td>0.732035</td>\n",
       "      <td>26.384400</td>\n",
       "    </tr>\n",
       "    <tr>\n",
       "      <th>min</th>\n",
       "      <td>0.000000</td>\n",
       "      <td>1.000000</td>\n",
       "      <td>1.000000</td>\n",
       "      <td>0.000000</td>\n",
       "    </tr>\n",
       "    <tr>\n",
       "      <th>25%</th>\n",
       "      <td>279.000000</td>\n",
       "      <td>143.000000</td>\n",
       "      <td>4.000000</td>\n",
       "      <td>0.000000</td>\n",
       "    </tr>\n",
       "    <tr>\n",
       "      <th>50%</th>\n",
       "      <td>585.000000</td>\n",
       "      <td>387.000000</td>\n",
       "      <td>5.000000</td>\n",
       "      <td>0.000000</td>\n",
       "    </tr>\n",
       "    <tr>\n",
       "      <th>75%</th>\n",
       "      <td>759.000000</td>\n",
       "      <td>585.000000</td>\n",
       "      <td>5.000000</td>\n",
       "      <td>0.000000</td>\n",
       "    </tr>\n",
       "    <tr>\n",
       "      <th>max</th>\n",
       "      <td>7198.000000</td>\n",
       "      <td>8595.000000</td>\n",
       "      <td>5.000000</td>\n",
       "      <td>985.000000</td>\n",
       "    </tr>\n",
       "  </tbody>\n",
       "</table>\n",
       "</div>"
      ],
      "text/plain": [
       "              price       minutes   star_rating  ratings_count\n",
       "count  86998.000000  86998.000000  14988.000000   86998.000000\n",
       "mean     560.848857    418.140992      4.642381       2.659406\n",
       "std      335.903165    364.815476      0.732035      26.384400\n",
       "min        0.000000      1.000000      1.000000       0.000000\n",
       "25%      279.000000    143.000000      4.000000       0.000000\n",
       "50%      585.000000    387.000000      5.000000       0.000000\n",
       "75%      759.000000    585.000000      5.000000       0.000000\n",
       "max     7198.000000   8595.000000      5.000000     985.000000"
      ]
     },
     "execution_count": 25,
     "metadata": {},
     "output_type": "execute_result"
    }
   ],
   "source": [
    "data.describe()"
   ]
  },
  {
   "cell_type": "markdown",
   "metadata": {},
   "source": [
    "## 4. Export DataFrame to xlsx to use in Tableau"
   ]
  },
  {
   "cell_type": "markdown",
   "metadata": {},
   "source": [
    "You did it! You cleaned a really gross dataset and now you're ready to use it in Tableau to create a visual analysis. We'll just simply use the pandas to_excel() function to write this locally to our machine. "
   ]
  },
  {
   "cell_type": "code",
   "execution_count": 26,
   "metadata": {},
   "outputs": [],
   "source": [
    "# Specify a file path for your machine\n",
    "data.to_excel(\"/workspaces/audible_data_cleaning/audible_clean.xlsx\", index=False)"
   ]
  },
  {
   "cell_type": "markdown",
   "metadata": {},
   "source": [
    "## What you learned:"
   ]
  },
  {
   "cell_type": "markdown",
   "metadata": {},
   "source": [
    "You just did a lot! Lets recap:\n",
    "\n",
    "You loaded an xlsx file into python using the pandas read_excel()\n",
    "\n",
    "Then, you utilized pandas, numpy, and regex and properly clean and manipulate your data. You used functions including:\n",
    "* duplicated()\n",
    "* drop_duplicates()\n",
    "* isnull()\n",
    "* dropna()\n",
    "* astype()\n",
    "* replace()\n",
    "and many more!\n",
    "\n",
    "Finally, you used exported your clean data to your local machine to then analyze in Tableau. You can now add data cleaning to your resume!"
   ]
  }
 ],
 "metadata": {
  "kernelspec": {
   "display_name": "env",
   "language": "python",
   "name": "python3"
  },
  "language_info": {
   "codemirror_mode": {
    "name": "ipython",
    "version": 3
   },
   "file_extension": ".py",
   "mimetype": "text/x-python",
   "name": "python",
   "nbconvert_exporter": "python",
   "pygments_lexer": "ipython3",
   "version": "3.10.13"
  }
 },
 "nbformat": 4,
 "nbformat_minor": 2
}
